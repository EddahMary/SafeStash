{
 "cells": [
  {
   "cell_type": "markdown",
   "id": "42d3734c",
   "metadata": {},
   "source": [
    "### Import Libraries"
   ]
  },
  {
   "cell_type": "code",
   "execution_count": 1,
   "id": "d6ee9253",
   "metadata": {},
   "outputs": [],
   "source": [
    "import numpy as np\n",
    "import pandas as pd\n",
    "import matplotlib.pyplot as plt\n",
    "import seaborn as sns"
   ]
  },
  {
   "cell_type": "markdown",
   "id": "a444126b",
   "metadata": {},
   "source": [
    "### Load the datasets"
   ]
  },
  {
   "cell_type": "code",
   "execution_count": 2,
   "id": "c5a2b688",
   "metadata": {},
   "outputs": [],
   "source": [
    "student = pd.read_csv(r\"C:\\Users\\SALOME\\Documents\\students.csv\")\n",
    "storeowners = pd.read_csv(r\"C:\\Users\\SALOME\\Documents\\store_owners.csv\")"
   ]
  },
  {
   "cell_type": "code",
   "execution_count": 3,
   "id": "7611a11e",
   "metadata": {
    "scrolled": true
   },
   "outputs": [
    {
     "data": {
      "text/plain": [
       "(83, 25)"
      ]
     },
     "execution_count": 3,
     "metadata": {},
     "output_type": "execute_result"
    }
   ],
   "source": [
    "student.shape"
   ]
  },
  {
   "cell_type": "code",
   "execution_count": 4,
   "id": "4ae89771",
   "metadata": {},
   "outputs": [
    {
     "data": {
      "text/html": [
       "<div>\n",
       "<style scoped>\n",
       "    .dataframe tbody tr th:only-of-type {\n",
       "        vertical-align: middle;\n",
       "    }\n",
       "\n",
       "    .dataframe tbody tr th {\n",
       "        vertical-align: top;\n",
       "    }\n",
       "\n",
       "    .dataframe thead th {\n",
       "        text-align: right;\n",
       "    }\n",
       "</style>\n",
       "<table border=\"1\" class=\"dataframe\">\n",
       "  <thead>\n",
       "    <tr style=\"text-align: right;\">\n",
       "      <th></th>\n",
       "      <th>gender</th>\n",
       "      <th>year_of_study</th>\n",
       "      <th>course_name</th>\n",
       "      <th>students_resident</th>\n",
       "      <th>challenge_storing_goods?</th>\n",
       "      <th>challenge</th>\n",
       "      <th>current_method_of_storage</th>\n",
       "      <th>renting_a_unit</th>\n",
       "      <th>ask_friends/family</th>\n",
       "      <th>carry_home</th>\n",
       "      <th>...</th>\n",
       "      <th>utensils</th>\n",
       "      <th>furniture</th>\n",
       "      <th>Other_belongings</th>\n",
       "      <th>duration_of_storage</th>\n",
       "      <th>how_important_is_security</th>\n",
       "      <th>How_comfortable_using_online_platform</th>\n",
       "      <th>prefererence_of_ booking</th>\n",
       "      <th>preferred_method_of_payment</th>\n",
       "      <th>preferred_mode_of_communication</th>\n",
       "      <th>additional_feature_for_platform</th>\n",
       "    </tr>\n",
       "  </thead>\n",
       "  <tbody>\n",
       "    <tr>\n",
       "      <th>0</th>\n",
       "      <td>Female</td>\n",
       "      <td>4</td>\n",
       "      <td>MCS</td>\n",
       "      <td>Outside the school</td>\n",
       "      <td>Yes</td>\n",
       "      <td>Had trouble finding a place to store my belong...</td>\n",
       "      <td>Carry them home</td>\n",
       "      <td>0</td>\n",
       "      <td>0</td>\n",
       "      <td>1</td>\n",
       "      <td>...</td>\n",
       "      <td>1</td>\n",
       "      <td>0</td>\n",
       "      <td>0</td>\n",
       "      <td>More than 8 weeks</td>\n",
       "      <td>Very important</td>\n",
       "      <td>Very comfortable</td>\n",
       "      <td>Online through the webapp</td>\n",
       "      <td>Credit card</td>\n",
       "      <td>In-app messages</td>\n",
       "      <td>NaN</td>\n",
       "    </tr>\n",
       "    <tr>\n",
       "      <th>1</th>\n",
       "      <td>Male</td>\n",
       "      <td>3</td>\n",
       "      <td>Software engineering</td>\n",
       "      <td>Outside the school</td>\n",
       "      <td>Yes</td>\n",
       "      <td>The storage facility charged alot of money</td>\n",
       "      <td>Ask friends/family</td>\n",
       "      <td>0</td>\n",
       "      <td>1</td>\n",
       "      <td>0</td>\n",
       "      <td>...</td>\n",
       "      <td>1</td>\n",
       "      <td>1</td>\n",
       "      <td>0</td>\n",
       "      <td>7-8 weeks</td>\n",
       "      <td>Very important</td>\n",
       "      <td>Very comfortable</td>\n",
       "      <td>Online through the webapp</td>\n",
       "      <td>M-pesa</td>\n",
       "      <td>In-app messages</td>\n",
       "      <td>NaN</td>\n",
       "    </tr>\n",
       "    <tr>\n",
       "      <th>2</th>\n",
       "      <td>Female</td>\n",
       "      <td>2</td>\n",
       "      <td>Business with IT</td>\n",
       "      <td>School hostels</td>\n",
       "      <td>Yes</td>\n",
       "      <td>Charges are very high for storage facilities</td>\n",
       "      <td>Ask friends/family</td>\n",
       "      <td>0</td>\n",
       "      <td>1</td>\n",
       "      <td>0</td>\n",
       "      <td>...</td>\n",
       "      <td>1</td>\n",
       "      <td>1</td>\n",
       "      <td>0</td>\n",
       "      <td>7-8 weeks</td>\n",
       "      <td>Very important</td>\n",
       "      <td>Very comfortable</td>\n",
       "      <td>Online through the webapp</td>\n",
       "      <td>M-pesa</td>\n",
       "      <td>In-app messages</td>\n",
       "      <td>NaN</td>\n",
       "    </tr>\n",
       "    <tr>\n",
       "      <th>3</th>\n",
       "      <td>Female</td>\n",
       "      <td>2</td>\n",
       "      <td>Industrial maths</td>\n",
       "      <td>Outside the school</td>\n",
       "      <td>Yes</td>\n",
       "      <td>Belongings got lost</td>\n",
       "      <td>Renting a storage unit</td>\n",
       "      <td>1</td>\n",
       "      <td>0</td>\n",
       "      <td>0</td>\n",
       "      <td>...</td>\n",
       "      <td>1</td>\n",
       "      <td>1</td>\n",
       "      <td>0</td>\n",
       "      <td>7-8 weeks</td>\n",
       "      <td>Very important</td>\n",
       "      <td>Very comfortable</td>\n",
       "      <td>Online through the webapp</td>\n",
       "      <td>M-pesa</td>\n",
       "      <td>In-app messages</td>\n",
       "      <td>NaN</td>\n",
       "    </tr>\n",
       "    <tr>\n",
       "      <th>4</th>\n",
       "      <td>Male</td>\n",
       "      <td>3</td>\n",
       "      <td>Civil engineering</td>\n",
       "      <td>Outside the school</td>\n",
       "      <td>No</td>\n",
       "      <td>NaN</td>\n",
       "      <td>Carry them home</td>\n",
       "      <td>0</td>\n",
       "      <td>0</td>\n",
       "      <td>1</td>\n",
       "      <td>...</td>\n",
       "      <td>0</td>\n",
       "      <td>1</td>\n",
       "      <td>0</td>\n",
       "      <td>3-4 weeks</td>\n",
       "      <td>Very important</td>\n",
       "      <td>Neutral</td>\n",
       "      <td>In person at the storage facility</td>\n",
       "      <td>M-pesa</td>\n",
       "      <td>In-app messages</td>\n",
       "      <td>NaN</td>\n",
       "    </tr>\n",
       "  </tbody>\n",
       "</table>\n",
       "<p>5 rows × 25 columns</p>\n",
       "</div>"
      ],
      "text/plain": [
       "   gender  year_of_study           course_name   students_resident  \\\n",
       "0  Female              4                   MCS  Outside the school   \n",
       "1    Male              3  Software engineering  Outside the school   \n",
       "2  Female              2      Business with IT      School hostels   \n",
       "3  Female              2      Industrial maths  Outside the school   \n",
       "4    Male              3     Civil engineering  Outside the school   \n",
       "\n",
       "  challenge_storing_goods?                                          challenge  \\\n",
       "0                      Yes  Had trouble finding a place to store my belong...   \n",
       "1                      Yes         The storage facility charged alot of money   \n",
       "2                      Yes       Charges are very high for storage facilities   \n",
       "3                      Yes                                Belongings got lost   \n",
       "4                       No                                                NaN   \n",
       "\n",
       "  current_method_of_storage  renting_a_unit  ask_friends/family  carry_home  \\\n",
       "0           Carry them home               0                   0           1   \n",
       "1        Ask friends/family               0                   1           0   \n",
       "2        Ask friends/family               0                   1           0   \n",
       "3    Renting a storage unit               1                   0           0   \n",
       "4           Carry them home               0                   0           1   \n",
       "\n",
       "   ...  utensils furniture  Other_belongings  duration_of_storage   \\\n",
       "0  ...         1         0                 0     More than 8 weeks   \n",
       "1  ...         1         1                 0             7-8 weeks   \n",
       "2  ...         1         1                 0             7-8 weeks   \n",
       "3  ...         1         1                 0             7-8 weeks   \n",
       "4  ...         0         1                 0             3-4 weeks   \n",
       "\n",
       "   how_important_is_security  How_comfortable_using_online_platform  \\\n",
       "0             Very important                       Very comfortable   \n",
       "1             Very important                       Very comfortable   \n",
       "2             Very important                       Very comfortable   \n",
       "3             Very important                       Very comfortable   \n",
       "4             Very important                                Neutral   \n",
       "\n",
       "            prefererence_of_ booking  preferred_method_of_payment  \\\n",
       "0          Online through the webapp                  Credit card   \n",
       "1          Online through the webapp                       M-pesa   \n",
       "2          Online through the webapp                       M-pesa   \n",
       "3          Online through the webapp                       M-pesa   \n",
       "4  In person at the storage facility                       M-pesa   \n",
       "\n",
       "  preferred_mode_of_communication additional_feature_for_platform  \n",
       "0                 In-app messages                             NaN  \n",
       "1                 In-app messages                             NaN  \n",
       "2                 In-app messages                             NaN  \n",
       "3                 In-app messages                             NaN  \n",
       "4                 In-app messages                             NaN  \n",
       "\n",
       "[5 rows x 25 columns]"
      ]
     },
     "execution_count": 4,
     "metadata": {},
     "output_type": "execute_result"
    }
   ],
   "source": [
    "student.head()"
   ]
  },
  {
   "cell_type": "code",
   "execution_count": 5,
   "id": "beaff2d2",
   "metadata": {},
   "outputs": [],
   "source": [
    "# drop columns\n",
    "student.drop(columns = ['renting_a_unit', 'ask_friends/family', 'carry_home', 'challenge'], axis = 1, inplace = True)"
   ]
  },
  {
   "cell_type": "markdown",
   "id": "49fe5b96",
   "metadata": {},
   "source": [
    "### Check column datatypes"
   ]
  },
  {
   "cell_type": "code",
   "execution_count": 6,
   "id": "7cc8f2b9",
   "metadata": {},
   "outputs": [
    {
     "data": {
      "text/plain": [
       "gender                                   object\n",
       "year_of_study                             int64\n",
       "course_name                              object\n",
       "students_resident                        object\n",
       "challenge_storing_goods?                 object\n",
       "current_method_of_storage                object\n",
       "Other_method_of_storage?                  int64\n",
       "type _of_belongings                      object\n",
       "clothing                                  int64\n",
       "study_materials                           int64\n",
       "electronics                               int64\n",
       "utensils                                  int64\n",
       "furniture                                 int64\n",
       "Other_belongings                          int64\n",
       "duration_of_storage                      object\n",
       "how_important_is_security                object\n",
       "How_comfortable_using_online_platform    object\n",
       "prefererence_of_ booking                 object\n",
       "preferred_method_of_payment              object\n",
       "preferred_mode_of_communication          object\n",
       "additional_feature_for_platform          object\n",
       "dtype: object"
      ]
     },
     "execution_count": 6,
     "metadata": {},
     "output_type": "execute_result"
    }
   ],
   "source": [
    "student.dtypes"
   ]
  },
  {
   "cell_type": "markdown",
   "id": "591e879a",
   "metadata": {},
   "source": [
    "### check for unique columns"
   ]
  },
  {
   "cell_type": "code",
   "execution_count": 7,
   "id": "4f1e2a72",
   "metadata": {},
   "outputs": [
    {
     "data": {
      "text/plain": [
       "gender                                    4\n",
       "year_of_study                             6\n",
       "course_name                              68\n",
       "students_resident                         2\n",
       "challenge_storing_goods?                  2\n",
       "current_method_of_storage                 9\n",
       "Other_method_of_storage?                  2\n",
       "type _of_belongings                      23\n",
       "clothing                                  2\n",
       "study_materials                           2\n",
       "electronics                               2\n",
       "utensils                                  2\n",
       "furniture                                 2\n",
       "Other_belongings                          2\n",
       "duration_of_storage                       5\n",
       "how_important_is_security                 2\n",
       "How_comfortable_using_online_platform     5\n",
       "prefererence_of_ booking                  2\n",
       "preferred_method_of_payment               4\n",
       "preferred_mode_of_communication           2\n",
       "additional_feature_for_platform          22\n",
       "dtype: int64"
      ]
     },
     "execution_count": 7,
     "metadata": {},
     "output_type": "execute_result"
    }
   ],
   "source": [
    "student.nunique()"
   ]
  },
  {
   "cell_type": "code",
   "execution_count": 8,
   "id": "0f4d9020",
   "metadata": {},
   "outputs": [
    {
     "data": {
      "text/plain": [
       "No     44\n",
       "Yes    39\n",
       "Name: challenge_storing_goods?, dtype: int64"
      ]
     },
     "execution_count": 8,
     "metadata": {},
     "output_type": "execute_result"
    }
   ],
   "source": [
    "# Check the number of students that have a challenge storing goods\n",
    "student['challenge_storing_goods?'].value_counts()"
   ]
  },
  {
   "cell_type": "markdown",
   "id": "feb8edbd",
   "metadata": {},
   "source": [
    "### Insight #1: A notable proportion of students encounter difficulties with storage solutions"
   ]
  },
  {
   "cell_type": "code",
   "execution_count": 9,
   "id": "d6c82901",
   "metadata": {},
   "outputs": [
    {
     "data": {
      "text/plain": [
       "Outside the school    75\n",
       "School hostels         8\n",
       "Name: students_resident, dtype: int64"
      ]
     },
     "execution_count": 9,
     "metadata": {},
     "output_type": "execute_result"
    }
   ],
   "source": [
    "# Get a count of the number of students that reside in school hostels and outside the school\n",
    "student['students_resident'].value_counts()"
   ]
  },
  {
   "cell_type": "markdown",
   "id": "f1433681",
   "metadata": {},
   "source": [
    "## Data Analysis and Visualization"
   ]
  },
  {
   "cell_type": "markdown",
   "id": "5aba172b",
   "metadata": {},
   "source": [
    "### Insight #2: Majority of the students reside outside the school"
   ]
  },
  {
   "cell_type": "markdown",
   "id": "6fde2af1",
   "metadata": {},
   "source": []
  },
  {
   "cell_type": "code",
   "execution_count": 10,
   "id": "1c940caf",
   "metadata": {},
   "outputs": [
    {
     "data": {
      "image/png": "[encoded data removed]",
      "text/plain": [
       "<Figure size 640x480 with 1 Axes>"
      ]
     },
     "metadata": {},
     "output_type": "display_data"
    }
   ],
   "source": [
    "## Show number of students that face a challenge storing goods by gender\n",
    "sns.countplot(x = 'gender', hue='challenge_storing_goods?', data = student)\n",
    "plt.show()"
   ]
  },
  {
   "cell_type": "markdown",
   "id": "883e3e26",
   "metadata": {},
   "source": [
    "### Insight #3: Male students are more likely to report challenges with storing goods compared to females"
   ]
  },
  {
   "cell_type": "code",
   "execution_count": 11,
   "id": "795b989c",
   "metadata": {},
   "outputs": [
    {
     "data": {
      "image/png": "[encoded data removed]",
      "text/plain": [
       "<Figure size 640x480 with 1 Axes>"
      ]
     },
     "metadata": {},
     "output_type": "display_data"
    }
   ],
   "source": [
    "# visualize how students currently store their belongings\n",
    "figure = sns.countplot(x = 'current_method_of_storage', data = student)\n",
    "figure.set_xticklabels(figure.get_xticklabels(), rotation=90)\n",
    "plt.show()"
   ]
  },
  {
   "cell_type": "markdown",
   "id": "332fd8ea",
   "metadata": {},
   "source": [
    "### Insight #4: The highest number of students prefer to carry their items home, with the next preference being renting a storage unit, followed by seeking assistance from family and friends"
   ]
  },
  {
   "cell_type": "code",
   "execution_count": 12,
   "id": "9a4ebcd6",
   "metadata": {},
   "outputs": [
    {
     "name": "stdout",
     "output_type": "stream",
     "text": [
      "1    61\n",
      "0    22\n",
      "Name: furniture, dtype: int64\n",
      "1    54\n",
      "0    29\n",
      "Name: utensils, dtype: int64\n",
      "1    62\n",
      "0    21\n",
      "Name: electronics, dtype: int64\n",
      "1    51\n",
      "0    32\n",
      "Name: study_materials, dtype: int64\n",
      "1    55\n",
      "0    28\n",
      "Name: clothing, dtype: int64\n"
     ]
    }
   ],
   "source": [
    "Furniture = student [\"furniture\"].value_counts()\n",
    "print(Furniture)\n",
    "\n",
    "Utensils = student [\"utensils\"].value_counts()\n",
    "print(Utensils)\n",
    "\n",
    "Electronics = student [\"electronics\"].value_counts()\n",
    "print(Electronics)\n",
    "\n",
    "Study_materials = student [\"study_materials\"].value_counts()\n",
    "print(Study_materials)\n",
    "\n",
    "Clothing = student [\"clothing\"].value_counts()\n",
    "print(Clothing)"
   ]
  },
  {
   "cell_type": "code",
   "execution_count": 13,
   "id": "0f5b7ff4",
   "metadata": {},
   "outputs": [
    {
     "data": {
      "text/plain": [
       "<Axes: >"
      ]
     },
     "execution_count": 13,
     "metadata": {},
     "output_type": "execute_result"
    },
    {
     "data": {
      "image/png": "[encoded data removed]",
      "text/plain": [
       "<Figure size 640x480 with 1 Axes>"
      ]
     },
     "metadata": {},
     "output_type": "display_data"
    }
   ],
   "source": [
    "# Visualize the most common stored goods\n",
    "sns.barplot(x = ['electronics', 'furniture', 'utensils', 'clothing', 'study_materials'],\n",
    "             y=[62, 61, 54, 55, 51])"
   ]
  },
  {
   "cell_type": "markdown",
   "id": "a9ba5029",
   "metadata": {},
   "source": [
    "### Insight #5: Electronics and furniture are the most stored types of goods, with utensils being the next most common category, followed by clothing then study materials"
   ]
  },
  {
   "cell_type": "code",
   "execution_count": 14,
   "id": "16805de2",
   "metadata": {},
   "outputs": [
    {
     "data": {
      "text/plain": [
       "<Axes: xlabel='how_important_is_security', ylabel='count'>"
      ]
     },
     "execution_count": 14,
     "metadata": {},
     "output_type": "execute_result"
    },
    {
     "data": {
      "image/png": "[encoded data removed]",
      "text/plain": [
       "<Figure size 640x480 with 1 Axes>"
      ]
     },
     "metadata": {},
     "output_type": "display_data"
    }
   ],
   "source": [
    "# Show how important security is for students when storing goods\n",
    "sns.countplot(x = 'how_important_is_security', data = student)"
   ]
  },
  {
   "cell_type": "markdown",
   "id": "034899b4",
   "metadata": {},
   "source": [
    "### Insight #6: Security emerges as a critical factor for students when considering storage solutions for their goods"
   ]
  },
  {
   "cell_type": "code",
   "execution_count": 15,
   "id": "01c7e28e",
   "metadata": {},
   "outputs": [
    {
     "data": {
      "text/plain": [
       "<Axes: xlabel='preferred_method_of_payment', ylabel='count'>"
      ]
     },
     "execution_count": 15,
     "metadata": {},
     "output_type": "execute_result"
    },
    {
     "data": {
      "image/png": "[encoded data removed]",
      "text/plain": [
       "<Figure size 640x480 with 1 Axes>"
      ]
     },
     "metadata": {},
     "output_type": "display_data"
    }
   ],
   "source": [
    "# Visualize the preferred method of payment\n",
    "sns.countplot(x = 'preferred_method_of_payment', data = student)"
   ]
  },
  {
   "cell_type": "markdown",
   "id": "35d5187c",
   "metadata": {},
   "source": [
    "### Insight #7:  M-Pesa stands out as the preferred method of payment among students"
   ]
  }
 ],
 "metadata": {
  "kernelspec": {
   "display_name": "Python 3 (ipykernel)",
   "language": "python",
   "name": "python3"
  },
  "language_info": {
   "codemirror_mode": {
    "name": "ipython",
    "version": 3
   },
   "file_extension": ".py",
   "mimetype": "text/x-python",
   "name": "python",
   "nbconvert_exporter": "python",
   "pygments_lexer": "ipython3",
   "version": "3.11.3"
  }
 },
 "nbformat": 4,
 "nbformat_minor": 5
}
